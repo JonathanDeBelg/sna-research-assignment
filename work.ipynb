{
 "cells": [
  {
   "cell_type": "code",
   "execution_count": 1,
   "id": "4d930ec9-a98a-4606-bd3c-9e9e305a709a",
   "metadata": {},
   "outputs": [],
   "source": [
    "import pandas as pd\n",
    "data_path = 'data/mental_health_forum_data.csv'"
   ]
  },
  {
   "cell_type": "code",
   "execution_count": 80,
   "id": "21a303e8-64f2-40e9-8266-bcb3b2db20b9",
   "metadata": {},
   "outputs": [],
   "source": [
    "df = pd.read_csv(data_path, index_col=0)\n",
    "df\n",
    "df[['user_name', 'forum_type']]\n",
    "\n",
    "users_dict = {row['user_name']: set([]) for index, row in df.iterrows()}\n",
    "{users_dict[row['user_name']].add(row['forum_type']) for index, row in df.iterrows()}\n",
    "\n",
    "users_dict\n",
    "# def unique_users(df):\n",
    "#     return {\"users\": df['user_name'].unique(), \"no_users\": len(df['user_name'].unique())}\n",
    "\n",
    "# unique_users(df)\n",
    "\n",
    "# def more_than_one_fora_reaction(df):\n",
    "#     multiple_fora_users = [key for key, values in df.items() if len(values) > 1]\n",
    "#     return {\"users\": multiple_fora_users, \"no_users\": len(multiple_fora_users)}\n",
    "\n",
    "def test(df):\n",
    "     return [{key: values} for key, values in users_dict.items() if len(values) > 1]\n",
    "    \n",
    "multiple_fora_ds = test(users_dict)\n",
    "\n",
    "table = []\n",
    "\n",
    "for key, value in users_dict.items():\n",
    "    if(len(value) > 1):\n",
    "        for i in range(len(value)):\n",
    "            if(i != len(value) - 1):\n",
    "                table.append([list(value)[i], list(value)[i+1]])\n",
    "  \n",
    "df = pd.DataFrame(table, columns=['from', 'to'])"
   ]
  },
  {
   "cell_type": "code",
   "execution_count": 81,
   "id": "91dc34b3-674f-42dd-87b4-7af9a59c0041",
   "metadata": {},
   "outputs": [
    {
     "name": "stderr",
     "output_type": "stream",
     "text": [
      "/var/folders/t0/f1kbfy_n4433_n3x1c7px_hr0000gn/T/ipykernel_1546/2573995207.py:10: FutureWarning: In a future version of pandas all arguments of DataFrame.drop except for the argument 'labels' will be keyword-only.\n",
      "  df = df.drop('tmp', 1)\n"
     ]
    }
   ],
   "source": [
    "df['tmp'] = df.apply(lambda x: frozenset([x['from'], x['to']]), axis=1)\n",
    "\n",
    "# Create count column based on new tmp column\n",
    "df['count'] = df.groupby(['tmp'])['to'].transform('size')\n",
    "\n",
    "# Drop duplicate rows based on new tmp column\n",
    "df = df[~df.duplicated(subset='tmp', keep='first')]\n",
    "\n",
    "# Remove tmp column\n",
    "df = df.drop('tmp', 1)\n",
    "\n",
    "df.to_csv('data/formatted_data.csv')"
   ]
  },
  {
   "cell_type": "code",
   "execution_count": null,
   "id": "8397df15-e9d6-4d60-bb3f-060c2cdf88b2",
   "metadata": {},
   "outputs": [],
   "source": []
  }
 ],
 "metadata": {
  "kernelspec": {
   "display_name": "Python 3 (ipykernel)",
   "language": "python",
   "name": "python3"
  },
  "language_info": {
   "codemirror_mode": {
    "name": "ipython",
    "version": 3
   },
   "file_extension": ".py",
   "mimetype": "text/x-python",
   "name": "python",
   "nbconvert_exporter": "python",
   "pygments_lexer": "ipython3",
   "version": "3.9.14"
  }
 },
 "nbformat": 4,
 "nbformat_minor": 5
}
